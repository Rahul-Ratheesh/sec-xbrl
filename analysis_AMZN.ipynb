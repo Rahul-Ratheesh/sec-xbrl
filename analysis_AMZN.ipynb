{
 "cells": [
  {
   "cell_type": "code",
   "execution_count": 13,
   "metadata": {},
   "outputs": [],
   "source": [
    "import pylab, numpy\n",
    "from datetime import datetime"
   ]
  },
  {
   "cell_type": "code",
   "execution_count": 23,
   "metadata": {},
   "outputs": [],
   "source": [
    "def importData(filename):\n",
    "    data = {}\n",
    "    with open(filename, 'r') as dataFile:\n",
    "        headers = dataFile.readline().strip().split(DELIMITER)\n",
    "        for header in headers:\n",
    "            data[header] = []\n",
    "        for line in dataFile:\n",
    "            datarecord = line.strip().split(DELIMITER)\n",
    "            for index, value in enumerate(datarecord):\n",
    "                data[headers[index]].append(value)\n",
    "    return data"
   ]
  },
  {
   "cell_type": "code",
   "execution_count": 24,
   "metadata": {},
   "outputs": [
    {
     "data": {
      "image/png": "[encoded data removed]",
      "text/plain": [
       "<Figure size 432x288 with 1 Axes>"
      ]
     },
     "metadata": {
      "needs_background": "light"
     },
     "output_type": "display_data"
    }
   ],
   "source": [
    "FILENAME = './data/CashAndCashEquivalents.csv'\n",
    "DELIMITER = ','\n",
    "\n",
    "data = importData(FILENAME)\n",
    "\n",
    "end_dates = [datetime.strptime(end_date, '%Y-%m-%d') for end_date in data['end_date']]\n",
    "end_years = [date.year for date in end_dates]\n",
    "effective_values =[int(effective_value) for effective_value in data['effective_value']]\n",
    "bar_width = 0.75\n",
    "\n",
    "figure = pylab.figure()    \n",
    "plot = figure.add_subplot(1, 1, 1)\n",
    "pylab.bar(end_years, effective_values, bar_width)\n",
    "pylab.title(\"Amazon's Cash and Cash Equivalents\")\n",
    "pylab.ylabel(\"Cash and Cash Equivalents\")\n",
    "plot.set_axisbelow(True)\n",
    "plot.yaxis.grid(color='gray', linestyle='solid')\n",
    "pylab.show()"
   ]
  },
  {
   "cell_type": "code",
   "execution_count": null,
   "metadata": {},
   "outputs": [],
   "source": []
  }
 ],
 "metadata": {
  "kernelspec": {
   "display_name": "Python 3",
   "language": "python",
   "name": "python3"
  },
  "language_info": {
   "codemirror_mode": {
    "name": "ipython",
    "version": 3
   },
   "file_extension": ".py",
   "mimetype": "text/x-python",
   "name": "python",
   "nbconvert_exporter": "python",
   "pygments_lexer": "ipython3",
   "version": "3.6.5"
  }
 },
 "nbformat": 4,
 "nbformat_minor": 2
}
